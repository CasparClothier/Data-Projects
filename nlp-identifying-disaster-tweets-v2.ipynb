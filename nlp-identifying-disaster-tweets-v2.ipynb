{
 "cells": [
  {
   "cell_type": "code",
   "execution_count": 1,
   "id": "2088d3ae",
   "metadata": {
    "_cell_guid": "b1076dfc-b9ad-4769-8c92-a6c4dae69d19",
    "_uuid": "8f2839f25d086af736a60e9eeb907d3b93b6e0e5",
    "execution": {
     "iopub.execute_input": "2024-06-14T11:32:47.378750Z",
     "iopub.status.busy": "2024-06-14T11:32:47.378354Z",
     "iopub.status.idle": "2024-06-14T11:32:55.384385Z",
     "shell.execute_reply": "2024-06-14T11:32:55.383293Z"
    },
    "papermill": {
     "duration": 8.021439,
     "end_time": "2024-06-14T11:32:55.387335",
     "exception": false,
     "start_time": "2024-06-14T11:32:47.365896",
     "status": "completed"
    },
    "tags": []
   },
   "outputs": [],
   "source": [
    "import numpy as np # linear algebra\n",
    "import pandas as pd # data processing, CSV file I/O (e.g. pd.read_csv)\n",
    "from sklearn import feature_extraction, linear_model, model_selection, preprocessing \n",
    "# Feature extraction allows extraction of features in a format supported my ML algs from datasets containing text and image.\n",
    "# Linear_model: linear regression\n",
    "# Model_selection: chooses estimators and parameters.\n",
    "# preprocessing: functions and transformer classes that change raw feature vectors into a more preferable form for estimators that are downstream.\n",
    "import re \n",
    "from tqdm import tqdm\n",
    "import seaborn as sns\n",
    "import matplotlib.pyplot as plt\n",
    "import spacy\n",
    "from sklearn.pipeline import Pipeline\n",
    "from sklearn.feature_extraction.text import TfidfVectorizer\n",
    "from sklearn.compose import ColumnTransformer"
   ]
  },
  {
   "cell_type": "markdown",
   "id": "3f310c3e",
   "metadata": {
    "papermill": {
     "duration": 0.01017,
     "end_time": "2024-06-14T11:32:55.408386",
     "exception": false,
     "start_time": "2024-06-14T11:32:55.398216",
     "status": "completed"
    },
    "tags": []
   },
   "source": [
    "**This is an older project of mine. I hope to add more to this when I am slightly more proficient in TensorFlow. Feel free to give me your thoughts/advice on this!**"
   ]
  },
  {
   "cell_type": "markdown",
   "id": "85f542fe",
   "metadata": {
    "papermill": {
     "duration": 0.010021,
     "end_time": "2024-06-14T11:32:55.428916",
     "exception": false,
     "start_time": "2024-06-14T11:32:55.418895",
     "status": "completed"
    },
    "tags": []
   },
   "source": [
    "# **Import the data, remove missing values, and analyse possible features**"
   ]
  },
  {
   "cell_type": "code",
   "execution_count": 2,
   "id": "f2bbd98f",
   "metadata": {
    "execution": {
     "iopub.execute_input": "2024-06-14T11:32:55.452101Z",
     "iopub.status.busy": "2024-06-14T11:32:55.450911Z",
     "iopub.status.idle": "2024-06-14T11:32:55.539854Z",
     "shell.execute_reply": "2024-06-14T11:32:55.538759Z"
    },
    "papermill": {
     "duration": 0.103246,
     "end_time": "2024-06-14T11:32:55.542580",
     "exception": false,
     "start_time": "2024-06-14T11:32:55.439334",
     "status": "completed"
    },
    "tags": []
   },
   "outputs": [],
   "source": [
    "train_df = pd.read_csv(\"/kaggle/input/nlp-getting-started/train.csv\")\n",
    "test_df = pd.read_csv(\"/kaggle/input/nlp-getting-started/test.csv\") "
   ]
  },
  {
   "cell_type": "code",
   "execution_count": 3,
   "id": "5f582032",
   "metadata": {
    "execution": {
     "iopub.execute_input": "2024-06-14T11:32:55.565646Z",
     "iopub.status.busy": "2024-06-14T11:32:55.565220Z",
     "iopub.status.idle": "2024-06-14T11:32:55.589126Z",
     "shell.execute_reply": "2024-06-14T11:32:55.587951Z"
    },
    "papermill": {
     "duration": 0.038231,
     "end_time": "2024-06-14T11:32:55.591678",
     "exception": false,
     "start_time": "2024-06-14T11:32:55.553447",
     "status": "completed"
    },
    "tags": []
   },
   "outputs": [
    {
     "data": {
      "text/html": [
       "<div>\n",
       "<style scoped>\n",
       "    .dataframe tbody tr th:only-of-type {\n",
       "        vertical-align: middle;\n",
       "    }\n",
       "\n",
       "    .dataframe tbody tr th {\n",
       "        vertical-align: top;\n",
       "    }\n",
       "\n",
       "    .dataframe thead th {\n",
       "        text-align: right;\n",
       "    }\n",
       "</style>\n",
       "<table border=\"1\" class=\"dataframe\">\n",
       "  <thead>\n",
       "    <tr style=\"text-align: right;\">\n",
       "      <th></th>\n",
       "      <th>id</th>\n",
       "      <th>keyword</th>\n",
       "      <th>location</th>\n",
       "      <th>text</th>\n",
       "      <th>target</th>\n",
       "    </tr>\n",
       "  </thead>\n",
       "  <tbody>\n",
       "    <tr>\n",
       "      <th>0</th>\n",
       "      <td>1</td>\n",
       "      <td>NaN</td>\n",
       "      <td>NaN</td>\n",
       "      <td>Our Deeds are the Reason of this #earthquake M...</td>\n",
       "      <td>1</td>\n",
       "    </tr>\n",
       "    <tr>\n",
       "      <th>1</th>\n",
       "      <td>4</td>\n",
       "      <td>NaN</td>\n",
       "      <td>NaN</td>\n",
       "      <td>Forest fire near La Ronge Sask. Canada</td>\n",
       "      <td>1</td>\n",
       "    </tr>\n",
       "    <tr>\n",
       "      <th>2</th>\n",
       "      <td>5</td>\n",
       "      <td>NaN</td>\n",
       "      <td>NaN</td>\n",
       "      <td>All residents asked to 'shelter in place' are ...</td>\n",
       "      <td>1</td>\n",
       "    </tr>\n",
       "    <tr>\n",
       "      <th>3</th>\n",
       "      <td>6</td>\n",
       "      <td>NaN</td>\n",
       "      <td>NaN</td>\n",
       "      <td>13,000 people receive #wildfires evacuation or...</td>\n",
       "      <td>1</td>\n",
       "    </tr>\n",
       "    <tr>\n",
       "      <th>4</th>\n",
       "      <td>7</td>\n",
       "      <td>NaN</td>\n",
       "      <td>NaN</td>\n",
       "      <td>Just got sent this photo from Ruby #Alaska as ...</td>\n",
       "      <td>1</td>\n",
       "    </tr>\n",
       "  </tbody>\n",
       "</table>\n",
       "</div>"
      ],
      "text/plain": [
       "   id keyword location                                               text  \\\n",
       "0   1     NaN      NaN  Our Deeds are the Reason of this #earthquake M...   \n",
       "1   4     NaN      NaN             Forest fire near La Ronge Sask. Canada   \n",
       "2   5     NaN      NaN  All residents asked to 'shelter in place' are ...   \n",
       "3   6     NaN      NaN  13,000 people receive #wildfires evacuation or...   \n",
       "4   7     NaN      NaN  Just got sent this photo from Ruby #Alaska as ...   \n",
       "\n",
       "   target  \n",
       "0       1  \n",
       "1       1  \n",
       "2       1  \n",
       "3       1  \n",
       "4       1  "
      ]
     },
     "execution_count": 3,
     "metadata": {},
     "output_type": "execute_result"
    }
   ],
   "source": [
    "# Get an idea of what the dataset looks like.\n",
    "train_df.head()"
   ]
  },
  {
   "cell_type": "code",
   "execution_count": 4,
   "id": "f482ab87",
   "metadata": {
    "execution": {
     "iopub.execute_input": "2024-06-14T11:32:55.614961Z",
     "iopub.status.busy": "2024-06-14T11:32:55.614091Z",
     "iopub.status.idle": "2024-06-14T11:32:55.626520Z",
     "shell.execute_reply": "2024-06-14T11:32:55.625463Z"
    },
    "papermill": {
     "duration": 0.026748,
     "end_time": "2024-06-14T11:32:55.629089",
     "exception": false,
     "start_time": "2024-06-14T11:32:55.602341",
     "status": "completed"
    },
    "tags": []
   },
   "outputs": [
    {
     "name": "stdout",
     "output_type": "stream",
     "text": [
      "id             0\n",
      "keyword       61\n",
      "location    2533\n",
      "text           0\n",
      "target         0\n",
      "dtype: int64\n"
     ]
    }
   ],
   "source": [
    "# Find the number of missing data points per column\n",
    "missing_values = train_df.isnull().sum()\n",
    "print(missing_values)"
   ]
  },
  {
   "cell_type": "code",
   "execution_count": 5,
   "id": "2f258cad",
   "metadata": {
    "execution": {
     "iopub.execute_input": "2024-06-14T11:32:55.652906Z",
     "iopub.status.busy": "2024-06-14T11:32:55.652170Z",
     "iopub.status.idle": "2024-06-14T11:32:55.661807Z",
     "shell.execute_reply": "2024-06-14T11:32:55.660928Z"
    },
    "papermill": {
     "duration": 0.023909,
     "end_time": "2024-06-14T11:32:55.664155",
     "exception": false,
     "start_time": "2024-06-14T11:32:55.640246",
     "status": "completed"
    },
    "tags": []
   },
   "outputs": [],
   "source": [
    "# Fill missing values\n",
    "train_df.fillna('0', inplace=True)\n"
   ]
  },
  {
   "cell_type": "code",
   "execution_count": 6,
   "id": "27551adc",
   "metadata": {
    "execution": {
     "iopub.execute_input": "2024-06-14T11:32:55.687749Z",
     "iopub.status.busy": "2024-06-14T11:32:55.686804Z",
     "iopub.status.idle": "2024-06-14T11:32:55.694827Z",
     "shell.execute_reply": "2024-06-14T11:32:55.693687Z"
    },
    "papermill": {
     "duration": 0.022552,
     "end_time": "2024-06-14T11:32:55.697442",
     "exception": false,
     "start_time": "2024-06-14T11:32:55.674890",
     "status": "completed"
    },
    "tags": []
   },
   "outputs": [],
   "source": [
    "# Extract texts and labels\n",
    "texts = list(train_df.text)\n",
    "labels = list(train_df.target)\n"
   ]
  },
  {
   "cell_type": "code",
   "execution_count": 7,
   "id": "24eadfb6",
   "metadata": {
    "execution": {
     "iopub.execute_input": "2024-06-14T11:32:55.720845Z",
     "iopub.status.busy": "2024-06-14T11:32:55.720424Z",
     "iopub.status.idle": "2024-06-14T11:32:55.739194Z",
     "shell.execute_reply": "2024-06-14T11:32:55.737937Z"
    },
    "papermill": {
     "duration": 0.033448,
     "end_time": "2024-06-14T11:32:55.741612",
     "exception": false,
     "start_time": "2024-06-14T11:32:55.708164",
     "status": "completed"
    },
    "tags": []
   },
   "outputs": [
    {
     "name": "stdout",
     "output_type": "stream",
     "text": [
      "keyword\n",
      "0                      61\n",
      "ablaze                 36\n",
      "accident               35\n",
      "aftershock             34\n",
      "airplane%20accident    35\n",
      "                       ..\n",
      "wounded                37\n",
      "wounds                 33\n",
      "wreck                  37\n",
      "wreckage               39\n",
      "wrecked                39\n",
      "Name: target, Length: 222, dtype: int64\n"
     ]
    }
   ],
   "source": [
    "# Find how frequently each keyword occurs and create a DataFrame of the keywords and their associated frequencies.\n",
    "keyword = train_df.groupby(\"keyword\")[\"target\"].count()\n",
    "keyword_df = pd.DataFrame(data={\"keyword\": keyword.index, \"count\": keyword.values}).sort_values(by=[\"count\"], ascending=False)\n",
    "print(keyword)"
   ]
  },
  {
   "cell_type": "code",
   "execution_count": 8,
   "id": "24ea5706",
   "metadata": {
    "execution": {
     "iopub.execute_input": "2024-06-14T11:32:55.764955Z",
     "iopub.status.busy": "2024-06-14T11:32:55.764567Z",
     "iopub.status.idle": "2024-06-14T11:32:56.452936Z",
     "shell.execute_reply": "2024-06-14T11:32:56.451796Z"
    },
    "papermill": {
     "duration": 0.703528,
     "end_time": "2024-06-14T11:32:56.455921",
     "exception": false,
     "start_time": "2024-06-14T11:32:55.752393",
     "status": "completed"
    },
    "tags": []
   },
   "outputs": [
    {
     "data": {
      "image/png": "[encoded data removed]",
      "text/plain": [
       "<Figure size 1500x700 with 1 Axes>"
      ]
     },
     "metadata": {},
     "output_type": "display_data"
    }
   ],
   "source": [
    "# Plot the top 30 keywords and their frequencies.\n",
    "plt.figure(figsize=(15,7))\n",
    "sns.barplot(data=keyword_df.head(30), x = 'keyword',y = 'count')\n",
    "plt.xticks(rotation = 40)\n",
    "plt.title('Top 30 keywords on Tweets');"
   ]
  },
  {
   "cell_type": "code",
   "execution_count": 9,
   "id": "abe42eff",
   "metadata": {
    "execution": {
     "iopub.execute_input": "2024-06-14T11:32:56.482686Z",
     "iopub.status.busy": "2024-06-14T11:32:56.481764Z",
     "iopub.status.idle": "2024-06-14T11:33:00.282285Z",
     "shell.execute_reply": "2024-06-14T11:33:00.281277Z"
    },
    "papermill": {
     "duration": 3.816022,
     "end_time": "2024-06-14T11:33:00.284485",
     "exception": false,
     "start_time": "2024-06-14T11:32:56.468463",
     "status": "completed"
    },
    "tags": []
   },
   "outputs": [
    {
     "data": {
      "image/png": "[encoded data removed]",
      "text/plain": [
       "<Figure size 640x480 with 1 Axes>"
      ]
     },
     "metadata": {},
     "output_type": "display_data"
    }
   ],
   "source": [
    "# Visualise the spread of tweet lengths throughout the whole training dataset.\n",
    "def plot_tweet_lengths(df):\n",
    "    # Find lengths.\n",
    "    ldf = pd.DataFrame(columns = ['lengths'])\n",
    "    i = 0\n",
    "    for text in df['text']:\n",
    "        ldf.loc[i, 'lengths'] = len(text)\n",
    "        i = i + 1\n",
    "    # plot histogram\n",
    "    increments = range(0, 180, 20)\n",
    "    plt.hist(ldf['lengths'],bins = increments, alpha = 0.3)\n",
    "    plt.title('histogram of tweet lengths')\n",
    "\n",
    "plot_tweet_lengths(train_df)"
   ]
  },
  {
   "cell_type": "code",
   "execution_count": 10,
   "id": "c05179ba",
   "metadata": {
    "execution": {
     "iopub.execute_input": "2024-06-14T11:33:00.310801Z",
     "iopub.status.busy": "2024-06-14T11:33:00.310433Z",
     "iopub.status.idle": "2024-06-14T11:33:03.871277Z",
     "shell.execute_reply": "2024-06-14T11:33:03.870217Z"
    },
    "papermill": {
     "duration": 3.577954,
     "end_time": "2024-06-14T11:33:03.874539",
     "exception": false,
     "start_time": "2024-06-14T11:33:00.296585",
     "status": "completed"
    },
    "tags": []
   },
   "outputs": [
    {
     "data": {
      "text/html": [
       "<div>\n",
       "<style scoped>\n",
       "    .dataframe tbody tr th:only-of-type {\n",
       "        vertical-align: middle;\n",
       "    }\n",
       "\n",
       "    .dataframe tbody tr th {\n",
       "        vertical-align: top;\n",
       "    }\n",
       "\n",
       "    .dataframe thead th {\n",
       "        text-align: right;\n",
       "    }\n",
       "</style>\n",
       "<table border=\"1\" class=\"dataframe\">\n",
       "  <thead>\n",
       "    <tr style=\"text-align: right;\">\n",
       "      <th></th>\n",
       "      <th>lengths</th>\n",
       "      <th>target</th>\n",
       "    </tr>\n",
       "  </thead>\n",
       "  <tbody>\n",
       "    <tr>\n",
       "      <th>0</th>\n",
       "      <td>69</td>\n",
       "      <td>1</td>\n",
       "    </tr>\n",
       "    <tr>\n",
       "      <th>1</th>\n",
       "      <td>38</td>\n",
       "      <td>1</td>\n",
       "    </tr>\n",
       "    <tr>\n",
       "      <th>2</th>\n",
       "      <td>133</td>\n",
       "      <td>1</td>\n",
       "    </tr>\n",
       "    <tr>\n",
       "      <th>3</th>\n",
       "      <td>65</td>\n",
       "      <td>1</td>\n",
       "    </tr>\n",
       "    <tr>\n",
       "      <th>4</th>\n",
       "      <td>88</td>\n",
       "      <td>1</td>\n",
       "    </tr>\n",
       "    <tr>\n",
       "      <th>...</th>\n",
       "      <td>...</td>\n",
       "      <td>...</td>\n",
       "    </tr>\n",
       "    <tr>\n",
       "      <th>7608</th>\n",
       "      <td>83</td>\n",
       "      <td>1</td>\n",
       "    </tr>\n",
       "    <tr>\n",
       "      <th>7609</th>\n",
       "      <td>125</td>\n",
       "      <td>1</td>\n",
       "    </tr>\n",
       "    <tr>\n",
       "      <th>7610</th>\n",
       "      <td>65</td>\n",
       "      <td>1</td>\n",
       "    </tr>\n",
       "    <tr>\n",
       "      <th>7611</th>\n",
       "      <td>137</td>\n",
       "      <td>1</td>\n",
       "    </tr>\n",
       "    <tr>\n",
       "      <th>7612</th>\n",
       "      <td>94</td>\n",
       "      <td>1</td>\n",
       "    </tr>\n",
       "  </tbody>\n",
       "</table>\n",
       "<p>7613 rows × 2 columns</p>\n",
       "</div>"
      ],
      "text/plain": [
       "     lengths  target\n",
       "0         69       1\n",
       "1         38       1\n",
       "2        133       1\n",
       "3         65       1\n",
       "4         88       1\n",
       "...      ...     ...\n",
       "7608      83       1\n",
       "7609     125       1\n",
       "7610      65       1\n",
       "7611     137       1\n",
       "7612      94       1\n",
       "\n",
       "[7613 rows x 2 columns]"
      ]
     },
     "execution_count": 10,
     "metadata": {},
     "output_type": "execute_result"
    }
   ],
   "source": [
    "# Define a function that takes a dataset and returns a DataFrame of each tweet's length and its corresponding target value.\n",
    "def sentence_lengths(df):\n",
    "    ldf = pd.DataFrame(columns = ['lengths'])\n",
    "    i = 0\n",
    "    for text in df['text']:\n",
    "        ldf.loc[i, 'lengths'] = len(text)\n",
    "        i = i + 1\n",
    "    return ldf\n",
    "\n",
    "\n",
    "new_ldf = sentence_lengths(train_df)\n",
    "\n",
    "merged_df = pd.concat([new_ldf, train_df[\"target\"]], axis=1) # Set up a DataFrame with columns for lengths and the corresponding binary target value.\n",
    "merged_df # Is this segment necessary?"
   ]
  },
  {
   "cell_type": "code",
   "execution_count": 11,
   "id": "39d92430",
   "metadata": {
    "execution": {
     "iopub.execute_input": "2024-06-14T11:33:03.915770Z",
     "iopub.status.busy": "2024-06-14T11:33:03.915375Z",
     "iopub.status.idle": "2024-06-14T11:33:04.270431Z",
     "shell.execute_reply": "2024-06-14T11:33:04.269333Z"
    },
    "papermill": {
     "duration": 0.382253,
     "end_time": "2024-06-14T11:33:04.273517",
     "exception": false,
     "start_time": "2024-06-14T11:33:03.891264",
     "status": "completed"
    },
    "tags": []
   },
   "outputs": [
    {
     "data": {
      "text/plain": [
       "Text(0.5, 1.0, 'The dependance of target value on tweet length')"
      ]
     },
     "execution_count": 11,
     "metadata": {},
     "output_type": "execute_result"
    },
    {
     "data": {
      "image/png": "[encoded data removed]",
      "text/plain": [
       "<Figure size 640x480 with 1 Axes>"
      ]
     },
     "metadata": {},
     "output_type": "display_data"
    }
   ],
   "source": [
    "sns.boxplot(x = merged_df['target'], y = merged_df['lengths'], palette = 'Set3')\n",
    "plt.xlabel('Target')\n",
    "plt.ylabel('Tweet Length')\n",
    "plt.title('The dependance of target value on tweet length')"
   ]
  },
  {
   "cell_type": "markdown",
   "id": "b48c4395",
   "metadata": {
    "papermill": {
     "duration": 0.013133,
     "end_time": "2024-06-14T11:33:04.300945",
     "exception": false,
     "start_time": "2024-06-14T11:33:04.287812",
     "status": "completed"
    },
    "tags": []
   },
   "source": [
    "# **Preprocessing**"
   ]
  },
  {
   "cell_type": "code",
   "execution_count": 12,
   "id": "6644c298",
   "metadata": {
    "execution": {
     "iopub.execute_input": "2024-06-14T11:33:04.330608Z",
     "iopub.status.busy": "2024-06-14T11:33:04.330188Z",
     "iopub.status.idle": "2024-06-14T11:33:05.757411Z",
     "shell.execute_reply": "2024-06-14T11:33:05.756436Z"
    },
    "papermill": {
     "duration": 1.445496,
     "end_time": "2024-06-14T11:33:05.760225",
     "exception": false,
     "start_time": "2024-06-14T11:33:04.314729",
     "status": "completed"
    },
    "tags": []
   },
   "outputs": [],
   "source": [
    "# Load spaCy model\n",
    "nlp = spacy.load('en_core_web_sm')\n"
   ]
  },
  {
   "cell_type": "code",
   "execution_count": 13,
   "id": "6c5f6660",
   "metadata": {
    "execution": {
     "iopub.execute_input": "2024-06-14T11:33:05.788204Z",
     "iopub.status.busy": "2024-06-14T11:33:05.787820Z",
     "iopub.status.idle": "2024-06-14T11:33:39.500606Z",
     "shell.execute_reply": "2024-06-14T11:33:39.499461Z"
    },
    "papermill": {
     "duration": 33.729943,
     "end_time": "2024-06-14T11:33:39.503414",
     "exception": false,
     "start_time": "2024-06-14T11:33:05.773471",
     "status": "completed"
    },
    "tags": []
   },
   "outputs": [
    {
     "name": "stderr",
     "output_type": "stream",
     "text": [
      "100%|██████████| 7613/7613 [00:33<00:00, 225.89it/s]\n"
     ]
    }
   ],
   "source": [
    "# Extract disaster-related texts\n",
    "disaster_text = []\n",
    "for i in tqdm(range(len(texts))):\n",
    "    if train_df.target[i] == 1:\n",
    "        disaster_text.append(nlp(texts[i]))\n"
   ]
  },
  {
   "cell_type": "code",
   "execution_count": 14,
   "id": "314272c5",
   "metadata": {
    "execution": {
     "iopub.execute_input": "2024-06-14T11:33:39.573482Z",
     "iopub.status.busy": "2024-06-14T11:33:39.573116Z",
     "iopub.status.idle": "2024-06-14T11:34:52.990752Z",
     "shell.execute_reply": "2024-06-14T11:34:52.989669Z"
    },
    "papermill": {
     "duration": 73.489413,
     "end_time": "2024-06-14T11:34:53.027063",
     "exception": false,
     "start_time": "2024-06-14T11:33:39.537650",
     "status": "completed"
    },
    "tags": []
   },
   "outputs": [
    {
     "name": "stdout",
     "output_type": "stream",
     "text": [
      "  (0, 10388)\t0.1977309466408412\n",
      "  (0, 18928)\t0.24603114121107716\n",
      "  (0, 3843)\t0.39143202958221895\n",
      "  (0, 782)\t0.39143202958221895\n",
      "  (0, 5982)\t0.3008179699436269\n",
      "  (0, 12725)\t0.28801888110295737\n",
      "  (0, 18447)\t0.17397354451072639\n",
      "  (0, 15801)\t0.10965656387929183\n",
      "  (0, 7541)\t0.3449149072880065\n",
      "  (0, 18392)\t0.09898822569574105\n",
      "  (0, 10560)\t0.17397354451072639\n",
      "  (0, 2865)\t0.37426394379394723\n",
      "  (0, 6763)\t0.2812296992055223\n",
      "  (1, 2140)\t0.38931208514660703\n",
      "  (1, 8107)\t0.4713763410985762\n",
      "  (1, 7774)\t0.4713763410985762\n",
      "  (1, 5410)\t0.38001562034563063\n",
      "  (1, 15607)\t0.30724782919463794\n",
      "  (1, 13267)\t0.2473060632637861\n",
      "  (1, 3841)\t0.32260099393107067\n",
      "  (2, 13022)\t0.2133809737715508\n",
      "  (2, 15906)\t0.219966949610918\n",
      "  (2, 15897)\t0.14053618938189563\n",
      "  (2, 12947)\t0.1875419301676637\n",
      "  (2, 15921)\t0.18837338020950337\n",
      "  :\t:\n",
      "  (7611, 12707)\t0.24561024657398242\n",
      "  (7611, 14471)\t0.2113077417958915\n",
      "  (7611, 3143)\t0.2113077417958915\n",
      "  (7611, 5591)\t0.22827581778682327\n",
      "  (7611, 10316)\t0.13594970644421284\n",
      "  (7611, 17397)\t0.21743123863085084\n",
      "  (7611, 17053)\t0.2521909776972618\n",
      "  (7611, 14877)\t0.16459042277426134\n",
      "  (7611, 19322)\t0.11094158319875302\n",
      "  (7611, 7150)\t0.1728234718433239\n",
      "  (7611, 11395)\t0.1665441847842386\n",
      "  (7611, 10451)\t0.13552332281191048\n",
      "  (7611, 10180)\t0.07614884850100652\n",
      "  (7611, 14286)\t0.07553345868035641\n",
      "  (7612, 7521)\t0.36835734543453214\n",
      "  (7612, 9936)\t0.3372082833619944\n",
      "  (7612, 5460)\t0.3227123027585959\n",
      "  (7612, 734)\t0.3483614279269286\n",
      "  (7612, 4595)\t0.3574013426709762\n",
      "  (7612, 6193)\t0.2920962837415355\n",
      "  (7612, 6457)\t0.2729765359909635\n",
      "  (7612, 6529)\t0.30211290726882356\n",
      "  (7612, 9058)\t0.18904771424301434\n",
      "  (7612, 2116)\t0.2683441505635224\n",
      "  (7612, 11298)\t0.1962461383482289\n"
     ]
    },
    {
     "name": "stderr",
     "output_type": "stream",
     "text": [
      "/opt/conda/lib/python3.10/site-packages/sklearn/feature_extraction/text.py:528: UserWarning: The parameter 'token_pattern' will not be used since 'tokenizer' is not None'\n",
      "  warnings.warn(\n"
     ]
    }
   ],
   "source": [
    "# Create a preprocessing function that will tokenize the text files before stripping out punctuation, links, etc...\n",
    "def preprocessor(text):\n",
    "    tokens = nlp(text)\n",
    "    clear_token_list = [token.text for token in tokens if not token.is_punct]\n",
    "    clear_token_list = [token for token in clear_token_list if not re.match(r'[^\\w\\s]', token)]\n",
    "    clear_token_list = [token for token in clear_token_list if not re.match(r\"http\\S+|www\\S+|https\\S+\", token, flags=re.MULTILINE)]\n",
    "    return clear_token_list\n",
    "\n",
    "# Apply to the text column\n",
    "train_df['text'] = train_df['text'].apply(preprocessor)\n",
    "\n",
    "# Vectorize the text using TF-IDF\n",
    "vectorizer = TfidfVectorizer(tokenizer=lambda x: x, preprocessor=lambda x: x)\n",
    "tfidf_matrix = vectorizer.fit_transform(train_df['text']) \n",
    "\n",
    "print(tfidf_matrix) "
   ]
  },
  {
   "cell_type": "code",
   "execution_count": 15,
   "id": "4858af53",
   "metadata": {
    "execution": {
     "iopub.execute_input": "2024-06-14T11:34:53.103301Z",
     "iopub.status.busy": "2024-06-14T11:34:53.102507Z",
     "iopub.status.idle": "2024-06-14T11:34:53.109238Z",
     "shell.execute_reply": "2024-06-14T11:34:53.108054Z"
    },
    "papermill": {
     "duration": 0.050771,
     "end_time": "2024-06-14T11:34:53.112213",
     "exception": false,
     "start_time": "2024-06-14T11:34:53.061442",
     "status": "completed"
    },
    "tags": []
   },
   "outputs": [],
   "source": [
    "categorical_features = [\"text\"]\n",
    "\n",
    "preprocessor = ColumnTransformer(\n",
    "    transformers=[\n",
    "      ('tfidf', vectorizer, 'text'),  \n",
    "    ]\n",
    ")"
   ]
  },
  {
   "cell_type": "code",
   "execution_count": 16,
   "id": "c130ea85",
   "metadata": {
    "execution": {
     "iopub.execute_input": "2024-06-14T11:34:53.195073Z",
     "iopub.status.busy": "2024-06-14T11:34:53.194667Z",
     "iopub.status.idle": "2024-06-14T11:34:53.217124Z",
     "shell.execute_reply": "2024-06-14T11:34:53.216016Z"
    },
    "papermill": {
     "duration": 0.060561,
     "end_time": "2024-06-14T11:34:53.219245",
     "exception": false,
     "start_time": "2024-06-14T11:34:53.158684",
     "status": "completed"
    },
    "tags": []
   },
   "outputs": [
    {
     "data": {
      "text/html": [
       "<div>\n",
       "<style scoped>\n",
       "    .dataframe tbody tr th:only-of-type {\n",
       "        vertical-align: middle;\n",
       "    }\n",
       "\n",
       "    .dataframe tbody tr th {\n",
       "        vertical-align: top;\n",
       "    }\n",
       "\n",
       "    .dataframe thead th {\n",
       "        text-align: right;\n",
       "    }\n",
       "</style>\n",
       "<table border=\"1\" class=\"dataframe\">\n",
       "  <thead>\n",
       "    <tr style=\"text-align: right;\">\n",
       "      <th></th>\n",
       "      <th>keyword</th>\n",
       "      <th>location</th>\n",
       "      <th>text</th>\n",
       "    </tr>\n",
       "  </thead>\n",
       "  <tbody>\n",
       "    <tr>\n",
       "      <th>0</th>\n",
       "      <td>0</td>\n",
       "      <td>0</td>\n",
       "      <td>[Our, Deeds, are, the, Reason, of, this, earth...</td>\n",
       "    </tr>\n",
       "    <tr>\n",
       "      <th>1</th>\n",
       "      <td>0</td>\n",
       "      <td>0</td>\n",
       "      <td>[Forest, fire, near, La, Ronge, Sask, Canada]</td>\n",
       "    </tr>\n",
       "    <tr>\n",
       "      <th>2</th>\n",
       "      <td>0</td>\n",
       "      <td>0</td>\n",
       "      <td>[All, residents, asked, to, shelter, in, place...</td>\n",
       "    </tr>\n",
       "    <tr>\n",
       "      <th>3</th>\n",
       "      <td>0</td>\n",
       "      <td>0</td>\n",
       "      <td>[13,000, people, receive, wildfires, evacuatio...</td>\n",
       "    </tr>\n",
       "    <tr>\n",
       "      <th>4</th>\n",
       "      <td>0</td>\n",
       "      <td>0</td>\n",
       "      <td>[Just, got, sent, this, photo, from, Ruby, Ala...</td>\n",
       "    </tr>\n",
       "    <tr>\n",
       "      <th>...</th>\n",
       "      <td>...</td>\n",
       "      <td>...</td>\n",
       "      <td>...</td>\n",
       "    </tr>\n",
       "    <tr>\n",
       "      <th>7608</th>\n",
       "      <td>0</td>\n",
       "      <td>0</td>\n",
       "      <td>[Two, giant, cranes, holding, a, bridge, colla...</td>\n",
       "    </tr>\n",
       "    <tr>\n",
       "      <th>7609</th>\n",
       "      <td>0</td>\n",
       "      <td>0</td>\n",
       "      <td>[The, out, of, control, wild, fires, in, Calif...</td>\n",
       "    </tr>\n",
       "    <tr>\n",
       "      <th>7610</th>\n",
       "      <td>0</td>\n",
       "      <td>0</td>\n",
       "      <td>[M1.94, 01:04, UTC]?5, km, S, of, Volcano, Haw...</td>\n",
       "    </tr>\n",
       "    <tr>\n",
       "      <th>7611</th>\n",
       "      <td>0</td>\n",
       "      <td>0</td>\n",
       "      <td>[Police, investigating, after, an, e, bike, co...</td>\n",
       "    </tr>\n",
       "    <tr>\n",
       "      <th>7612</th>\n",
       "      <td>0</td>\n",
       "      <td>0</td>\n",
       "      <td>[The, Latest, More, Homes, Razed, by, Northern...</td>\n",
       "    </tr>\n",
       "  </tbody>\n",
       "</table>\n",
       "<p>7613 rows × 3 columns</p>\n",
       "</div>"
      ],
      "text/plain": [
       "     keyword location                                               text\n",
       "0          0        0  [Our, Deeds, are, the, Reason, of, this, earth...\n",
       "1          0        0      [Forest, fire, near, La, Ronge, Sask, Canada]\n",
       "2          0        0  [All, residents, asked, to, shelter, in, place...\n",
       "3          0        0  [13,000, people, receive, wildfires, evacuatio...\n",
       "4          0        0  [Just, got, sent, this, photo, from, Ruby, Ala...\n",
       "...      ...      ...                                                ...\n",
       "7608       0        0  [Two, giant, cranes, holding, a, bridge, colla...\n",
       "7609       0        0  [The, out, of, control, wild, fires, in, Calif...\n",
       "7610       0        0  [M1.94, 01:04, UTC]?5, km, S, of, Volcano, Haw...\n",
       "7611       0        0  [Police, investigating, after, an, e, bike, co...\n",
       "7612       0        0  [The, Latest, More, Homes, Razed, by, Northern...\n",
       "\n",
       "[7613 rows x 3 columns]"
      ]
     },
     "execution_count": 16,
     "metadata": {},
     "output_type": "execute_result"
    }
   ],
   "source": [
    "x = train_df.iloc[:, :-1]\n",
    "y = train_df.iloc[:,-1]\n",
    "x.drop(\"id\", axis=1, inplace=True)\n",
    "x"
   ]
  },
  {
   "cell_type": "markdown",
   "id": "51ad1078",
   "metadata": {
    "papermill": {
     "duration": 0.035115,
     "end_time": "2024-06-14T11:34:53.288960",
     "exception": false,
     "start_time": "2024-06-14T11:34:53.253845",
     "status": "completed"
    },
    "tags": []
   },
   "source": [
    "# **Model evaluation**"
   ]
  },
  {
   "cell_type": "code",
   "execution_count": 17,
   "id": "85508d1a",
   "metadata": {
    "execution": {
     "iopub.execute_input": "2024-06-14T11:34:53.361868Z",
     "iopub.status.busy": "2024-06-14T11:34:53.361493Z",
     "iopub.status.idle": "2024-06-14T11:34:54.178568Z",
     "shell.execute_reply": "2024-06-14T11:34:54.177322Z"
    },
    "papermill": {
     "duration": 0.856548,
     "end_time": "2024-06-14T11:34:54.181307",
     "exception": false,
     "start_time": "2024-06-14T11:34:53.324759",
     "status": "completed"
    },
    "tags": []
   },
   "outputs": [
    {
     "name": "stderr",
     "output_type": "stream",
     "text": [
      "/opt/conda/lib/python3.10/site-packages/sklearn/feature_extraction/text.py:528: UserWarning: The parameter 'token_pattern' will not be used since 'tokenizer' is not None'\n",
      "  warnings.warn(\n"
     ]
    },
    {
     "name": "stdout",
     "output_type": "stream",
     "text": [
      "model_score: 0.887\n"
     ]
    }
   ],
   "source": [
    "from sklearn.linear_model import LogisticRegression\n",
    "\n",
    "lg = LogisticRegression()\n",
    "\n",
    "clf_lg = Pipeline(\n",
    "    steps = [(\"vectorizer\", preprocessor), (\"classifier\", lg)]\n",
    ")\n",
    "\n",
    "clf_lg.fit(x, y)\n",
    "print(\"model_score: %.3f\" %clf_lg.score(x, y))"
   ]
  },
  {
   "cell_type": "code",
   "execution_count": 18,
   "id": "caba5afd",
   "metadata": {
    "execution": {
     "iopub.execute_input": "2024-06-14T11:34:54.253117Z",
     "iopub.status.busy": "2024-06-14T11:34:54.252687Z",
     "iopub.status.idle": "2024-06-14T11:35:11.774175Z",
     "shell.execute_reply": "2024-06-14T11:35:11.773064Z"
    },
    "papermill": {
     "duration": 17.560075,
     "end_time": "2024-06-14T11:35:11.776791",
     "exception": false,
     "start_time": "2024-06-14T11:34:54.216716",
     "status": "completed"
    },
    "tags": []
   },
   "outputs": [
    {
     "name": "stderr",
     "output_type": "stream",
     "text": [
      "/opt/conda/lib/python3.10/site-packages/sklearn/feature_extraction/text.py:528: UserWarning: The parameter 'token_pattern' will not be used since 'tokenizer' is not None'\n",
      "  warnings.warn(\n"
     ]
    },
    {
     "name": "stdout",
     "output_type": "stream",
     "text": [
      "model_score: 0.964\n"
     ]
    }
   ],
   "source": [
    "from sklearn.svm import SVC\n",
    "\n",
    "svc = SVC() \n",
    "\n",
    "clf_svc = Pipeline(\n",
    "    steps = [(\"preprocessor\", preprocessor), (\"classifier\", svc)]\n",
    ")\n",
    "\n",
    "clf_svc.fit(x, y)\n",
    "print(\"model_score: %.3f\" %clf_svc.score(x, y))"
   ]
  },
  {
   "cell_type": "code",
   "execution_count": 19,
   "id": "f63448a4",
   "metadata": {
    "execution": {
     "iopub.execute_input": "2024-06-14T11:35:11.849357Z",
     "iopub.status.busy": "2024-06-14T11:35:11.848945Z",
     "iopub.status.idle": "2024-06-14T11:35:31.226491Z",
     "shell.execute_reply": "2024-06-14T11:35:31.225068Z"
    },
    "papermill": {
     "duration": 19.416876,
     "end_time": "2024-06-14T11:35:31.228847",
     "exception": false,
     "start_time": "2024-06-14T11:35:11.811971",
     "status": "completed"
    },
    "tags": []
   },
   "outputs": [
    {
     "name": "stderr",
     "output_type": "stream",
     "text": [
      "/opt/conda/lib/python3.10/site-packages/sklearn/feature_extraction/text.py:528: UserWarning: The parameter 'token_pattern' will not be used since 'tokenizer' is not None'\n",
      "  warnings.warn(\n"
     ]
    },
    {
     "name": "stdout",
     "output_type": "stream",
     "text": [
      "model score: 0.988\n"
     ]
    }
   ],
   "source": [
    "from sklearn.ensemble import RandomForestClassifier\n",
    "\n",
    "rfc = RandomForestClassifier()\n",
    "\n",
    "clf_rfc = Pipeline(\n",
    "    steps=[(\"preprocessor\", preprocessor), (\"classifier\", rfc)]\n",
    ")\n",
    "\n",
    "clf_rfc.fit(x, y)\n",
    "print('model score: %.3f' % clf_rfc.score(x, y))"
   ]
  },
  {
   "cell_type": "code",
   "execution_count": 20,
   "id": "f4a44881",
   "metadata": {
    "execution": {
     "iopub.execute_input": "2024-06-14T11:35:31.302612Z",
     "iopub.status.busy": "2024-06-14T11:35:31.302137Z",
     "iopub.status.idle": "2024-06-14T11:35:36.502038Z",
     "shell.execute_reply": "2024-06-14T11:35:36.500631Z"
    },
    "papermill": {
     "duration": 5.240195,
     "end_time": "2024-06-14T11:35:36.504832",
     "exception": false,
     "start_time": "2024-06-14T11:35:31.264637",
     "status": "completed"
    },
    "tags": []
   },
   "outputs": [
    {
     "name": "stderr",
     "output_type": "stream",
     "text": [
      "/opt/conda/lib/python3.10/site-packages/sklearn/feature_extraction/text.py:528: UserWarning: The parameter 'token_pattern' will not be used since 'tokenizer' is not None'\n",
      "  warnings.warn(\n"
     ]
    },
    {
     "name": "stdout",
     "output_type": "stream",
     "text": [
      "model score: 0.763\n"
     ]
    }
   ],
   "source": [
    "from sklearn.ensemble import GradientBoostingClassifier\n",
    "\n",
    "gbc = GradientBoostingClassifier()\n",
    "\n",
    "clf_gbc = Pipeline(\n",
    "    steps=[(\"preprocessor\", preprocessor), (\"classifier\", gbc)]\n",
    ")\n",
    "\n",
    "clf_gbc.fit(x, y)\n",
    "print(\"model score: %.3f\" % clf_gbc.score(x, y))"
   ]
  },
  {
   "cell_type": "code",
   "execution_count": 21,
   "id": "9068bb9d",
   "metadata": {
    "execution": {
     "iopub.execute_input": "2024-06-14T11:35:36.579549Z",
     "iopub.status.busy": "2024-06-14T11:35:36.578587Z",
     "iopub.status.idle": "2024-06-14T11:35:40.299095Z",
     "shell.execute_reply": "2024-06-14T11:35:40.297618Z"
    },
    "papermill": {
     "duration": 3.760755,
     "end_time": "2024-06-14T11:35:40.301718",
     "exception": false,
     "start_time": "2024-06-14T11:35:36.540963",
     "status": "completed"
    },
    "tags": []
   },
   "outputs": [
    {
     "name": "stderr",
     "output_type": "stream",
     "text": [
      "/opt/conda/lib/python3.10/site-packages/sklearn/feature_extraction/text.py:528: UserWarning: The parameter 'token_pattern' will not be used since 'tokenizer' is not None'\n",
      "  warnings.warn(\n"
     ]
    },
    {
     "name": "stdout",
     "output_type": "stream",
     "text": [
      "model score: 0.861\n"
     ]
    }
   ],
   "source": [
    "import xgboost\n",
    "\n",
    "xgb = xgboost.XGBClassifier()\n",
    "\n",
    "clf_xgb = Pipeline(\n",
    "    steps=[(\"preprocessor\", preprocessor), (\"classifier\", xgb)]\n",
    ")\n",
    "\n",
    "clf_xgb.fit(x, y)\n",
    "print(\"model score: %.3f\" % clf_xgb.score(x, y))"
   ]
  },
  {
   "cell_type": "code",
   "execution_count": 22,
   "id": "c6104edb",
   "metadata": {
    "execution": {
     "iopub.execute_input": "2024-06-14T11:35:40.374864Z",
     "iopub.status.busy": "2024-06-14T11:35:40.374465Z",
     "iopub.status.idle": "2024-06-14T11:36:00.260120Z",
     "shell.execute_reply": "2024-06-14T11:36:00.258882Z"
    },
    "papermill": {
     "duration": 19.925251,
     "end_time": "2024-06-14T11:36:00.262488",
     "exception": false,
     "start_time": "2024-06-14T11:35:40.337237",
     "status": "completed"
    },
    "tags": []
   },
   "outputs": [
    {
     "name": "stderr",
     "output_type": "stream",
     "text": [
      "/opt/conda/lib/python3.10/site-packages/sklearn/feature_extraction/text.py:528: UserWarning: The parameter 'token_pattern' will not be used since 'tokenizer' is not None'\n",
      "  warnings.warn(\n"
     ]
    },
    {
     "name": "stdout",
     "output_type": "stream",
     "text": [
      "model score: 0.963\n"
     ]
    }
   ],
   "source": [
    "from sklearn.ensemble import BaggingClassifier\n",
    "\n",
    "bgc = BaggingClassifier()\n",
    "\n",
    "clf_bgc = Pipeline(\n",
    "    steps=[(\"preprocessor\", preprocessor), (\"classifier\", bgc)]\n",
    ")\n",
    "\n",
    "clf_bgc.fit(x, y)\n",
    "print('model score: %.3f' % clf_bgc.score(x, y))"
   ]
  },
  {
   "cell_type": "code",
   "execution_count": 23,
   "id": "2858b1a6",
   "metadata": {
    "execution": {
     "iopub.execute_input": "2024-06-14T11:36:00.335938Z",
     "iopub.status.busy": "2024-06-14T11:36:00.335533Z",
     "iopub.status.idle": "2024-06-14T11:36:18.806348Z",
     "shell.execute_reply": "2024-06-14T11:36:18.802319Z"
    },
    "papermill": {
     "duration": 18.511859,
     "end_time": "2024-06-14T11:36:18.810346",
     "exception": false,
     "start_time": "2024-06-14T11:36:00.298487",
     "status": "completed"
    },
    "tags": []
   },
   "outputs": [
    {
     "name": "stderr",
     "output_type": "stream",
     "text": [
      "/opt/conda/lib/python3.10/site-packages/sklearn/feature_extraction/text.py:528: UserWarning: The parameter 'token_pattern' will not be used since 'tokenizer' is not None'\n",
      "  warnings.warn(\n"
     ]
    },
    {
     "name": "stdout",
     "output_type": "stream",
     "text": [
      "model score: 0.988\n"
     ]
    }
   ],
   "source": [
    "from sklearn.neural_network import MLPClassifier\n",
    "\n",
    "mlp = MLPClassifier(hidden_layer_sizes=(10, 10, 10),\n",
    "                    max_iter=1000)\n",
    "\n",
    "clf_mlp = Pipeline(\n",
    "    steps=[(\"preprocessor\", preprocessor), (\"classifier\", mlp)]\n",
    ")\n",
    "\n",
    "clf_mlp.fit(x, y)\n",
    "print(\"model score: %.3f\" % clf_mlp.score(x, y))"
   ]
  },
  {
   "cell_type": "markdown",
   "id": "ec6309c5",
   "metadata": {
    "papermill": {
     "duration": 0.048983,
     "end_time": "2024-06-14T11:36:18.942481",
     "exception": false,
     "start_time": "2024-06-14T11:36:18.893498",
     "status": "completed"
    },
    "tags": []
   },
   "source": [
    "# **Apply the most accurate model (based on the training data) and submit**"
   ]
  },
  {
   "cell_type": "code",
   "execution_count": 24,
   "id": "f5ae374a",
   "metadata": {
    "execution": {
     "iopub.execute_input": "2024-06-14T11:36:19.081778Z",
     "iopub.status.busy": "2024-06-14T11:36:19.081357Z",
     "iopub.status.idle": "2024-06-14T11:36:19.090377Z",
     "shell.execute_reply": "2024-06-14T11:36:19.089207Z"
    },
    "papermill": {
     "duration": 0.114061,
     "end_time": "2024-06-14T11:36:19.093251",
     "exception": false,
     "start_time": "2024-06-14T11:36:18.979190",
     "status": "completed"
    },
    "tags": []
   },
   "outputs": [
    {
     "name": "stdout",
     "output_type": "stream",
     "text": [
      "id             0\n",
      "keyword       26\n",
      "location    1105\n",
      "text           0\n",
      "dtype: int64\n"
     ]
    }
   ],
   "source": [
    "missing_values = test_df.isnull().sum()\n",
    "print(missing_values)"
   ]
  },
  {
   "cell_type": "code",
   "execution_count": 25,
   "id": "638d7412",
   "metadata": {
    "execution": {
     "iopub.execute_input": "2024-06-14T11:36:19.169662Z",
     "iopub.status.busy": "2024-06-14T11:36:19.169247Z",
     "iopub.status.idle": "2024-06-14T11:36:19.177025Z",
     "shell.execute_reply": "2024-06-14T11:36:19.175919Z"
    },
    "papermill": {
     "duration": 0.049096,
     "end_time": "2024-06-14T11:36:19.179581",
     "exception": false,
     "start_time": "2024-06-14T11:36:19.130485",
     "status": "completed"
    },
    "tags": []
   },
   "outputs": [],
   "source": [
    "test_df.fillna('0', inplace=True)"
   ]
  },
  {
   "cell_type": "code",
   "execution_count": 26,
   "id": "65813fb7",
   "metadata": {
    "execution": {
     "iopub.execute_input": "2024-06-14T11:36:19.255113Z",
     "iopub.status.busy": "2024-06-14T11:36:19.254147Z",
     "iopub.status.idle": "2024-06-14T11:36:19.417711Z",
     "shell.execute_reply": "2024-06-14T11:36:19.416009Z"
    },
    "papermill": {
     "duration": 0.206388,
     "end_time": "2024-06-14T11:36:19.422649",
     "exception": false,
     "start_time": "2024-06-14T11:36:19.216261",
     "status": "completed"
    },
    "tags": []
   },
   "outputs": [],
   "source": [
    "predictions = clf_mlp.predict(test_df)\n",
    "output = pd.DataFrame({'id': test_df['id'], 'Prediction' : predictions})"
   ]
  },
  {
   "cell_type": "code",
   "execution_count": 27,
   "id": "ff7b2b34",
   "metadata": {
    "execution": {
     "iopub.execute_input": "2024-06-14T11:36:19.558116Z",
     "iopub.status.busy": "2024-06-14T11:36:19.557676Z",
     "iopub.status.idle": "2024-06-14T11:36:19.569664Z",
     "shell.execute_reply": "2024-06-14T11:36:19.568615Z"
    },
    "papermill": {
     "duration": 0.069948,
     "end_time": "2024-06-14T11:36:19.572258",
     "exception": false,
     "start_time": "2024-06-14T11:36:19.502310",
     "status": "completed"
    },
    "tags": []
   },
   "outputs": [],
   "source": [
    "output.to_csv('submission.csv', index = False)"
   ]
  },
  {
   "cell_type": "code",
   "execution_count": null,
   "id": "ae5729c6",
   "metadata": {
    "papermill": {
     "duration": 0.036961,
     "end_time": "2024-06-14T11:36:19.646102",
     "exception": false,
     "start_time": "2024-06-14T11:36:19.609141",
     "status": "completed"
    },
    "tags": []
   },
   "outputs": [],
   "source": []
  }
 ],
 "metadata": {
  "kaggle": {
   "accelerator": "none",
   "dataSources": [
    {
     "datasetId": 3803903,
     "sourceId": 6590881,
     "sourceType": "datasetVersion"
    }
   ],
   "dockerImageVersionId": 30715,
   "isGpuEnabled": false,
   "isInternetEnabled": false,
   "language": "python",
   "sourceType": "notebook"
  },
  "kernelspec": {
   "display_name": "Python 3",
   "language": "python",
   "name": "python3"
  },
  "language_info": {
   "codemirror_mode": {
    "name": "ipython",
    "version": 3
   },
   "file_extension": ".py",
   "mimetype": "text/x-python",
   "name": "python",
   "nbconvert_exporter": "python",
   "pygments_lexer": "ipython3",
   "version": "3.10.13"
  },
  "papermill": {
   "default_parameters": {},
   "duration": 216.701209,
   "end_time": "2024-06-14T11:36:21.108774",
   "environment_variables": {},
   "exception": null,
   "input_path": "__notebook__.ipynb",
   "output_path": "__notebook__.ipynb",
   "parameters": {},
   "start_time": "2024-06-14T11:32:44.407565",
   "version": "2.5.0"
  }
 },
 "nbformat": 4,
 "nbformat_minor": 5
}
